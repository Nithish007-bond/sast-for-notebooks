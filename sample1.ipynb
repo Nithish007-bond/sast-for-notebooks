{
 "cells": [
  {
   "cell_type": "code",
   "metadata": {},
   "source": [
    "import subprocess\n",
    "import hashlib\n",
    "user_input = \"2 + 2\"\n",
    "result = eval(user_input)\n",
    "print(f\"Eval result: {result}\")\n",
    "command = \"ls -l\"\n",
    "subprocess.call(command, shell=True)\n",
    "password = \"mypassword\"\n",
    "hash_object = hashlib.md5(password.encode())\n",
    "print(f\"MD5 hash: {hash_object.hexdigest()}\")"
   ],
   "execution_count": null,
   "outputs": []
  }
 ],
 "metadata": {
  "kernelspec": {
   "display_name": "Python 3",
   "language": "python",
   "name": "python3"
  },
  "language_info": {
   "name": "python",
   "version": "3.10"
  }
 },
 "nbformat": 4,
 "nbformat_minor": 2
}
