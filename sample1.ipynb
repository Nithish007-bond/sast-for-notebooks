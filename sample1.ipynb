{
 "cells": [
  {
   "cell_type": "code",
   "execution_count": null,
   "metadata": {},
   "outputs": [],
   "source": [
    "import subprocess\n",
    "import hashlib\n",
    "\n",
    "# Use of eval (security risk)\n",
    "user_input = \"2 + 2\"\n",
    "result = eval(user_input)\n",
    "print(f\"Eval result: {result}\")\n",
    "\n",
    "# Using subprocess with shell=True (risky)\n",
    "command = \"ls -l\"\n",
    "subprocess.call(command, shell=True)\n",
    "\n",
    "# Weak hashing algorithm (MD5)\n",
    "password = \"mypassword\"\n",
    "hash_object = hashlib.md5(password.encode())\n",
    "print(f\"MD5 hash: {hash_object.hexdigest()}\")"
   ]
  }
 ],
 "metadata": {
  "kernelspec": {
   "display_name": "Python 3",
   "language": "python",
   "name": "python3"
  },
  "language_info": {
   "name": "python",
