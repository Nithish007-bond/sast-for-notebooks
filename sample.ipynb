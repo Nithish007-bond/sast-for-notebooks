{
 "cells": [
  {
   "cell_type": "code",
   "execution_count": null,
   "metadata": {},
   "outputs": [],
   "source": [
    "import math,sys\n",
    "\n",
    "def square(x):\n",
    "  return x **2\n",
    "\n",
    "value = square( 4 )\n",
    "print(f'Result: {value}')"
   ]
  },
  {
   "cell_type": "code",
   "execution_count": null,
   "metadata": {},
   "outputs": [],
   "source": [
    "# This function has a type hint issue\n",
    "def greet(name: int) -> str:\n",
    "    return \"Hello, \" + name\n",
    "\n",
    "greet('Alice')"
   ]
  }
 ],
 "metadata": {
  "kernelspec": {
   "display_name": "Python 3",
   "language": "python",
   "name": "python3"
  },
  "language_info": {
   "name": "python",
   "version": "3.10"
  }
 },
 "nbformat": 4,
 "nbformat_minor": 2
}
